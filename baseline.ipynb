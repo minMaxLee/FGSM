{
 "cells": [
  {
   "cell_type": "code",
   "execution_count": 1,
   "metadata": {
    "collapsed": true
   },
   "outputs": [],
   "source": [
    "import tensorflow as tf\n",
    "from tensorflow.keras import datasets, layers, models\n",
    "import matplotlib.pyplot as plt\n",
    "\n",
    "(train_images, train_labels), (test_images, test_labels) = datasets.cifar10.load_data()\n",
    "\n",
    "# Normalize pixel values to be between 0 and 1\n",
    "train_images, test_images = train_images / 255.0, test_images / 255.0\n",
    "class_names = ['airplane', 'automobile', 'bird', 'cat', 'deer',\n",
    "               'dog', 'frog', 'horse', 'ship', 'truck']"
   ]
  },
  {
   "cell_type": "code",
   "execution_count": 2,
   "metadata": {
    "collapsed": true
   },
   "outputs": [
    {
     "name": "stdout",
     "output_type": "stream",
     "text": [
      "Epoch 1/10\n",
      "1329/1329 - 58s - loss: 1.4541 - accuracy: 0.4791 - val_loss: 1.2804 - val_accuracy: 0.5520\n",
      "Epoch 2/10\n",
      "1329/1329 - 56s - loss: 1.1217 - accuracy: 0.6041 - val_loss: 1.0529 - val_accuracy: 0.6349\n",
      "Epoch 3/10\n",
      "1329/1329 - 56s - loss: 0.9561 - accuracy: 0.6638 - val_loss: 1.0085 - val_accuracy: 0.6492\n",
      "Epoch 4/10\n",
      "1329/1329 - 52s - loss: 0.8430 - accuracy: 0.7022 - val_loss: 0.9054 - val_accuracy: 0.6845\n",
      "Epoch 5/10\n",
      "1329/1329 - 51s - loss: 0.7524 - accuracy: 0.7364 - val_loss: 0.9272 - val_accuracy: 0.6824\n",
      "Epoch 6/10\n",
      "1329/1329 - 51s - loss: 0.6667 - accuracy: 0.7657 - val_loss: 0.9074 - val_accuracy: 0.6949\n",
      "Epoch 7/10\n",
      "1329/1329 - 49s - loss: 0.5942 - accuracy: 0.7896 - val_loss: 0.9389 - val_accuracy: 0.6916\n",
      "Epoch 8/10\n",
      "1329/1329 - 53s - loss: 0.5211 - accuracy: 0.8139 - val_loss: 0.9189 - val_accuracy: 0.7135\n",
      "Epoch 9/10\n",
      "1329/1329 - 52s - loss: 0.4593 - accuracy: 0.8364 - val_loss: 0.9659 - val_accuracy: 0.7035\n",
      "Epoch 10/10\n",
      "1329/1329 - 52s - loss: 0.4028 - accuracy: 0.8558 - val_loss: 1.0943 - val_accuracy: 0.6903\n"
     ]
    }
   ],
   "source": [
    "#model\n",
    "model = models.Sequential()\n",
    "model.add(layers.Conv2D(32, (3, 3), activation='swish', input_shape=(32, 32, 3)))\n",
    "model.add(layers.MaxPooling2D((2, 2)))\n",
    "model.add(layers.Conv2D(64, (3, 3), activation='elu'))\n",
    "model.add(layers.MaxPooling2D((2, 2)))\n",
    "model.add(layers.Conv2D(64, (3, 3), activation='swish'))\n",
    "model.add(layers.Flatten())\n",
    "model.add(layers.Dense(64, activation='elu'))\n",
    "model.add(layers.Dense(10))\n",
    "\n",
    "model.compile(optimizer='adam',\n",
    "              loss=tf.keras.losses.SparseCategoricalCrossentropy(from_logits=True),\n",
    "              metrics=['accuracy'])\n",
    "\n",
    "history = model.fit(train_images, train_labels, epochs=10, \n",
    "                    validation_split = 0.15, verbose = 2)"
   ]
  },
  {
   "cell_type": "code",
   "execution_count": 3,
   "metadata": {},
   "outputs": [
    {
     "name": "stdout",
     "output_type": "stream",
     "text": [
      "313/313 - 4s - loss: 1.1086 - accuracy: 0.6916\n"
     ]
    }
   ],
   "source": [
    "test_loss, test_acc = model.evaluate(test_images,  test_labels, verbose=2)"
   ]
  },
  {
   "cell_type": "code",
   "execution_count": 4,
   "metadata": {},
   "outputs": [
    {
     "name": "stdout",
     "output_type": "stream",
     "text": [
      "baseline testing accuracy: 0.692\n"
     ]
    }
   ],
   "source": [
    "print(\"baseline testing accuracy: %.3f\" %test_acc)\n",
    "\n",
    "import numpy as np\n",
    "\n",
    "#model prediction probability \n",
    "model_prob = model.predict(test_images)\n",
    "\n",
    "#use max() to get from prob -> prediction\n",
    "model_predictions = []\n",
    "\n",
    "#model_predictions\n",
    "for prob in model_prob: \n",
    "    pred = tf.math.argmax(prob)\n",
    "    ind = pred.numpy()\n",
    "    model_predictions.append(ind)"
   ]
  },
  {
   "cell_type": "code",
   "execution_count": 5,
   "metadata": {
    "collapsed": true
   },
   "outputs": [],
   "source": [
    "loss_object = tf.keras.losses.CategoricalCrossentropy()\n",
    "\n",
    "# compute signed gradient of the loss w.r.t to input image\n",
    "def adv(input_image, input_label):\n",
    "    with tf.GradientTape() as tape:\n",
    "        tape.watch(input_image)\n",
    "        prediction = model(input_image)\n",
    "        loss = loss_object(input_label, prediction)\n",
    "    # Get the gradients of the loss w.r.t to the input image.\n",
    "    gradient = tape.gradient(loss, input_image)\n",
    "    # Get the sign of the gradients to create the perturbation\n",
    "    signed_grad = tf.sign(gradient)\n",
    "    return signed_grad\n",
    "\n",
    "#create adversarial image using signed gradient * epsilon\n",
    "def adv_images(test_images, test_labels, epsilon):\n",
    "    adv_results = []\n",
    "    for im,label in zip(test_images, test_labels):\n",
    "        im = tf.convert_to_tensor([im])\n",
    "        label = tf.one_hot(label, 10)\n",
    "        label = tf.reshape(label, (1,10))\n",
    "        #get sign gradient \n",
    "        signed_grad = adv(im, label)\n",
    "        #create adversary \n",
    "        adv_image = im + epsilon*signed_grad\n",
    "        # normalize adversarial image to [0,1]\n",
    "        adv_image = (adv_image + epsilon) / (1 + 2 * epsilon)\n",
    "        # clip out floating point errors\n",
    "        adv_image = tf.clip_by_value(adv_image, clip_value_min=0, clip_value_max=1)\n",
    "        adv_results.append(adv_image)\n",
    "    return adv_results"
   ]
  },
  {
   "cell_type": "code",
   "execution_count": 6,
   "metadata": {
    "collapsed": true
   },
   "outputs": [],
   "source": [
    "#compare results from base model with FGSM\n",
    "\n",
    "#find highest classification probabilty from model\n",
    "def prob_to_class(input_images):\n",
    "    class_predictions = []\n",
    "    prob = model.predict(input_images)\n",
    "    for p in prob: \n",
    "        pred = tf.math.argmax(p)\n",
    "        ind = pred.numpy()\n",
    "        class_predictions.append(ind)\n",
    "    return class_predictions\n",
    "        "
   ]
  },
  {
   "cell_type": "code",
   "execution_count": 7,
   "metadata": {
    "collapsed": true
   },
   "outputs": [],
   "source": [
    "# run attack on different epsilon and show examples of successful attacks\n",
    "def fgsm_attack(model_predictions, test_images, test_labels, epsilon):\n",
    "    fgsm_images = adv_images(test_images, test_labels, epsilon)\n",
    "    fgsm_images = tf.convert_to_tensor(fgsm_images)\n",
    "    fgsm_images = tf.reshape(fgsm_images, (10000, 32, 32, 3))\n",
    "    fgsm_predictions = prob_to_class(fgsm_images)\n",
    "\n",
    "    num_success = 0\n",
    "    ind = 0\n",
    "    success = []\n",
    "    for model_pred, fgsm_pred, true in zip(model_predictions, fgsm_predictions, test_labels):\n",
    "        true = true[0]\n",
    "        # successful misclassification: model initially predicted correct but now misclassifies\n",
    "        if model_pred == true and model_pred != fgsm_pred:\n",
    "            num_success += 1\n",
    "            success_case = (ind, fgsm_pred, true)\n",
    "            success.append(success_case)\n",
    "        ind += 1\n",
    "        \n",
    "    return fgsm_images, num_success/10000, success\n",
    "    "
   ]
  },
  {
   "cell_type": "code",
   "execution_count": 8,
   "metadata": {
    "collapsed": true
   },
   "outputs": [],
   "source": [
    "import random\n",
    "#display findings\n",
    "def display_results(test_images, test_labels, successful, fgsm_images, epsilon):\n",
    "    # compare 3 random misclassified images to true labels\n",
    "    plt.figure(figsize=(10,10))\n",
    "    ax = []\n",
    "    num_ex = 3\n",
    "    ex1 = random.randint(0,len(successful))\n",
    "    ex2 = int(ex1/2)+ 1\n",
    "    ex3 = ex2 + 1\n",
    "    ex = [ex1, ex2, ex3]\n",
    "    plot_ind = 1\n",
    "    for i in ex:\n",
    "        ind, fgsm_pred, true = successful[i]\n",
    "        plt.figure(figsize=(10,10))\n",
    "        plt.subplot(3,2,plot_ind)\n",
    "        plt.xticks([])\n",
    "        plt.yticks([])\n",
    "        plt.grid(False)\n",
    "        plt.imshow(fgsm_images[ind], cmap=plt.cm.binary)\n",
    "        mis_title = \"epsilon = {e}\\tMisclassified as: {pred}\".format(e = epsilon, pred = class_names[fgsm_pred])\n",
    "        plt.xlabel(mis_title)\n",
    "        plt.subplot(3,2,plot_ind+1)\n",
    "        plt.xticks([])\n",
    "        plt.yticks([])\n",
    "        plt.grid(False)\n",
    "        plt.imshow(test_images[ind], cmap=plt.cm.binary)\n",
    "        true_title = \"epsilon = {e}\\tTrue Label: {pred}\".format(e = epsilon, pred = class_names[true])\n",
    "        plt.xlabel(true_title)\n",
    "        plot_ind += 2\n",
    "    plt.show()\n",
    "  \n"
   ]
  },
  {
   "cell_type": "code",
   "execution_count": 9,
   "metadata": {
    "collapsed": true
   },
   "outputs": [],
   "source": [
    "def fgsm_result(test_images, test_labels, model_predictions):\n",
    "    epsilon = [0.01,0.05, 0.1, 0.15, 0.2]\n",
    "    for e in epsilon:\n",
    "        #get adversarial images\n",
    "        fgsm_images, accuracy, success = fgsm_attack(model_predictions, test_images, test_labels, e)\n",
    "        #display visual result:\n",
    "        print(\"epsilon value:\", e, \"fgsm attack accuracy:\", accuracy)\n",
    "        display_results(test_images, test_labels, success, fgsm_images, e)\n",
    "    \n",
    "# fgsm_result(test_images, test_labels, model_predictions)\n",
    "        "
   ]
  },
  {
   "cell_type": "code",
   "execution_count": 10,
   "metadata": {
    "collapsed": true
   },
   "outputs": [],
   "source": [
    "# Iterative FGSM: "
   ]
  },
  {
   "cell_type": "code",
   "execution_count": 11,
   "metadata": {
    "collapsed": true
   },
   "outputs": [],
   "source": [
    "def ifgsm_adv(test_images, test_labels, epsilon, alpha, iteration):\n",
    "    adv_results = []\n",
    "    for im,label in zip(test_images, test_labels):\n",
    "        original = tf.convert_to_tensor([im])\n",
    "        label = tf.one_hot(label, 10)\n",
    "        label = tf.reshape(label, (1,10))\n",
    "        #iterative attack\n",
    "        adv_image = original\n",
    "        \n",
    "        \n",
    "        #debugging::\n",
    "        print(\"im shape:\", tf.shape(adv_image))\n",
    "        print(\"label shape:\",tf.shape(label))\n",
    "        \n",
    "        for i in range(iteration):\n",
    "            signed_grad = adv(adv_image, label)\n",
    "            adv_image = adv_image + alpha * signed_grad\n",
    "            diff = adv_image - original\n",
    "            diff = tf.clip_by_value(diff, clip_value_min=-epsilon, clip_value_max=epsilon)\n",
    "            adv_image = original + diff\n",
    "            # normalize to [0,1]\n",
    "            adv_image = (adv_image + epsilon) / (1 + 2 * epsilon)\n",
    "            adv_image = tf.clip_by_value(adv_image, clip_value_min=0, clip_value_max=1)\n",
    "        adv_results.append(adv_image)\n",
    "    return adv_results\n"
   ]
  },
  {
   "cell_type": "code",
   "execution_count": 12,
   "metadata": {
    "collapsed": true
   },
   "outputs": [],
   "source": [
    "def ifgsm_attack(model_predictions, test_images, test_labels, epsilon, alpha, iteration):\n",
    "    ifgsm_images = ifgsm_adv(test_images, test_labels, epsilon, alpha, iteration)\n",
    "    ifgsm_images = tf.convert_to_tensor(ifgsm_images)\n",
    "    ifgsm_images = tf.reshape(ifgsm_images, (10000, 32, 32, 3))\n",
    "    ifgsm_predictions = prob_to_class(ifgsm_images)\n",
    "\n",
    "    num_success = 0\n",
    "    ind = 0\n",
    "    success = []\n",
    "    for model_pred, ifgsm_pred, true in zip(model_predictions, ifgsm_predictions, test_labels):\n",
    "        true = true[0]\n",
    "        # successful misclassification: model initially predicted correct but now misclassifies\n",
    "        if model_pred == true and model_pred != ifgsm_pred:\n",
    "            num_success += 1\n",
    "            success_case = (ind, ifgsm_pred, true)\n",
    "            success.append(success_case)\n",
    "        ind += 1\n",
    "        \n",
    "    return ifgsm_images, num_success/10000, success"
   ]
  },
  {
   "cell_type": "code",
   "execution_count": 13,
   "metadata": {
    "collapsed": true
   },
   "outputs": [],
   "source": [
    "def ifgsm_display_results(test_images, test_labels, successful, fgsm_images, epsilon, alpha, iteration):\n",
    "    # compare 3 random misclassified images to true labels\n",
    "    plt.figure(figsize=(10,10))\n",
    "    ax = []\n",
    "    num_ex = 3\n",
    "    ex1 = random.randint(0,len(successful))\n",
    "    ex2 = int(ex1/2)+ 1\n",
    "    ex3 = ex2 + 1\n",
    "    ex = [ex1, ex2, ex3]\n",
    "    plot_ind = 1\n",
    "    for i in ex:\n",
    "        ind, fgsm_pred, true = successful[i]\n",
    "        plt.figure(figsize=(10,10))\n",
    "        plt.subplot(3,2,plot_ind)\n",
    "        plt.xticks([])\n",
    "        plt.yticks([])\n",
    "        plt.grid(False)\n",
    "        plt.imshow(fgsm_images[ind], cmap=plt.cm.binary)\n",
    "        mis_title = \"e,a,iteration = {e},{a},{i}\\tMisclassified as: {pred}\".format(e = epsilon, a=alpha, i=iteration, pred = class_names[fgsm_pred])\n",
    "        plt.xlabel(mis_title)\n",
    "        plt.subplot(3,2,plot_ind+1)\n",
    "        plt.xticks([])\n",
    "        plt.yticks([])\n",
    "        plt.grid(False)\n",
    "        plt.imshow(test_images[ind], cmap=plt.cm.binary)\n",
    "        true_title = \"e,a,iteration = {e},{a},{i}\\tTrue Label: {pred}\".format(e = epsilon, a=alpha, i=iteration, pred = class_names[true])\n",
    "        plt.xlabel(true_title)\n",
    "        plot_ind += 2\n",
    "    plt.show()"
   ]
  },
  {
   "cell_type": "code",
   "execution_count": 14,
   "metadata": {
    "collapsed": true
   },
   "outputs": [],
   "source": [
    "def ifgsm_result(test_images, test_labels, model_predictions, epsilon, alpha, iteration):\n",
    "    #get adversarial images\n",
    "    ifgsm_images, accuracy, success = ifgsm_attack(model_predictions, test_images, test_labels, epsilon, alpha, iteration)\n",
    "    #display visual result:\n",
    "    print(\"epsilon value:\", epsilon, \"alpha:\", alpha, \"iteration:\",iteration, \"fgsm attack accuracy:\", accuracy)\n",
    "    ifgsm_display_results(test_images, test_labels, success, ifgsm_images, epsilon, alpha, iteration)"
   ]
  },
  {
   "cell_type": "code",
   "execution_count": 15,
   "metadata": {
    "collapsed": true
   },
   "outputs": [],
   "source": [
    "# alpha = 0.1, iteration = 5\n",
    "# ifgsm_result(test_images, test_labels, model_predictions, 0.1, 0.1, 5)"
   ]
  },
  {
   "cell_type": "code",
   "execution_count": 16,
   "metadata": {
    "collapsed": true
   },
   "outputs": [],
   "source": [
    "# #e = 0.05, a = 0.1, iteration = 10\n",
    "# ifgsm_result(test_images, test_labels, model_predictions, 0.01, 0.1, 10)"
   ]
  },
  {
   "cell_type": "code",
   "execution_count": 17,
   "metadata": {
    "collapsed": true
   },
   "outputs": [],
   "source": [
    "# ifgsm_result(test_images, test_labels, model_predictions, 0.05, 0.1, 10)"
   ]
  },
  {
   "cell_type": "code",
   "execution_count": 18,
   "metadata": {
    "collapsed": true
   },
   "outputs": [],
   "source": [
    "# ifgsm_result(test_images, test_labels, model_predictions, 0.1, 0.1, 10)"
   ]
  },
  {
   "cell_type": "code",
   "execution_count": 19,
   "metadata": {
    "collapsed": true
   },
   "outputs": [],
   "source": [
    "#ifgsm_result(test_images, test_labels, model_predictions, 0.2, 0.1, 5)"
   ]
  },
  {
   "cell_type": "code",
   "execution_count": 20,
   "metadata": {
    "collapsed": true
   },
   "outputs": [],
   "source": [
    "#ifgsm_result(test_images, test_labels, model_predictions, 0.2, 0.1, 10)"
   ]
  },
  {
   "cell_type": "code",
   "execution_count": 21,
   "metadata": {
    "collapsed": true
   },
   "outputs": [],
   "source": [
    "#ifgsm_result(test_images, test_labels, model_predictions, 0.01, 0.5, 5)"
   ]
  },
  {
   "cell_type": "code",
   "execution_count": 22,
   "metadata": {
    "collapsed": true
   },
   "outputs": [],
   "source": [
    "#ifgsm_result(test_images, test_labels, model_predictions, 0.05, 0.5, 5)"
   ]
  },
  {
   "cell_type": "code",
   "execution_count": 23,
   "metadata": {
    "collapsed": true
   },
   "outputs": [],
   "source": [
    "#ifgsm_result(test_images, test_labels, model_predictions, 0.1, 0.5, 5)"
   ]
  },
  {
   "cell_type": "code",
   "execution_count": 24,
   "metadata": {
    "collapsed": true
   },
   "outputs": [],
   "source": [
    "# Least Likely FGSM\n",
    "# generate LL-FGSM images\n",
    "def llfgsm_adv(test_images, model_prob, epsilon, alpha, iteration):\n",
    "    adv_results = []\n",
    "    least_labels = []\n",
    "    \n",
    "    for im,prob in zip(test_images, model_prob):\n",
    "        original = tf.convert_to_tensor([im])\n",
    "        #least-likely label\n",
    "        label = tf.one_hot(np.argmin(prob), 10)\n",
    "        label = tf.reshape(label, (1,10))\n",
    "        least_labels.append(np.argmin(prob))\n",
    "        adv_image = original\n",
    "        \n",
    "#         print(\"image shape:\", tf.shape(adv_image))\n",
    "        \n",
    "        for i in range(iteration):\n",
    "            signed_grad = adv(adv_image, label)\n",
    "            adv_image = adv_image - alpha * signed_grad\n",
    "            \n",
    "            diff = adv_image - original\n",
    "            diff = tf.clip_by_value(diff, clip_value_min=-epsilon, clip_value_max=epsilon)\n",
    "            adv_image = original + diff\n",
    "            \n",
    "            # normalize to [0,1]\n",
    "            adv_image = (adv_image + epsilon) / (1 + 2 * epsilon)\n",
    "            adv_image = tf.clip_by_value(adv_image, clip_value_min=0, clip_value_max=1)\n",
    "        adv_results.append(adv_image)\n",
    "\n",
    "    return adv_results, least_labels\n"
   ]
  },
  {
   "cell_type": "code",
   "execution_count": 25,
   "metadata": {
    "collapsed": true
   },
   "outputs": [],
   "source": [
    "# perform LL-FGSM attack on test images\n",
    "def llfgsm_attack(model_predictions, model_prob, test_images, test_labels, epsilon, alpha, iteration):\n",
    "    #create llfgsm images and get model prediction\n",
    "    llfgsm_images, least_labels = llfgsm_adv(test_images, model_prob, epsilon, alpha, iteration)\n",
    "    llfgsm_images = tf.convert_to_tensor(llfgsm_images)\n",
    "    llfgsm_images = tf.reshape(llfgsm_images, (10000, 32, 32, 3))\n",
    "    llfgsm_predictions = prob_to_class(llfgsm_images)\n",
    "\n",
    "    num_success = 0\n",
    "    ind = 0\n",
    "    success = []\n",
    "    \n",
    "    #record accuracy and successful attacks\n",
    "    for model_pred, llfgsm_pred, true in zip(model_predictions, llfgsm_predictions, test_labels):\n",
    "        true = true[0]\n",
    "        # successful misclassification: model initially predicted correct but now misclassifies\n",
    "        if model_pred == true and model_pred != llfgsm_pred:\n",
    "            num_success += 1\n",
    "            \n",
    "            success_case = (ind, llfgsm_pred, true)\n",
    "            success.append(success_case)\n",
    "        ind += 1\n",
    "        \n",
    "    return llfgsm_images, num_success/10000, success, least_labels"
   ]
  },
  {
   "cell_type": "code",
   "execution_count": 31,
   "metadata": {
    "collapsed": true
   },
   "outputs": [],
   "source": [
    "# run and display LL-FGSM attack on test images \n",
    "def llfgsm_display_results(test_images, test_labels, successful, fgsm_images, least_labels, epsilon, alpha, iteration):\n",
    "    # compare 3 random misclassified images to true labels\n",
    "    plt.figure(figsize=(10,10))\n",
    "    ax = []\n",
    "    num_ex = 3\n",
    "    ex1 = random.randint(0,len(successful))\n",
    "    ex2 = int(ex1/2)+ 1\n",
    "    ex3 = ex2 + 1\n",
    "    ex = [ex1, ex2, ex3]\n",
    "    plot_ind = 1\n",
    "    for i in ex:\n",
    "        ind, fgsm_pred, true = successful[i]\n",
    "        plt.figure(figsize=(10,10))\n",
    "        plt.subplot(3,2,plot_ind)\n",
    "        plt.xticks([])\n",
    "        plt.yticks([])\n",
    "        plt.grid(False)\n",
    "        plt.imshow(fgsm_images[ind], cmap=plt.cm.binary)\n",
    "        mis_title = \"Least_Label: {label}\\tMisclassified as: {pred}\".format(label = class_names[least_labels[i]], pred = class_names[fgsm_pred])\n",
    "        plt.xlabel(mis_title)\n",
    "        plt.subplot(3,2,plot_ind+1)\n",
    "        plt.xticks([])\n",
    "        plt.yticks([])\n",
    "        plt.grid(False)\n",
    "        plt.imshow(test_images[ind], cmap=plt.cm.binary)\n",
    "        true_title = \"True Label: {pred}\".format(pred = class_names[true])\n",
    "        plt.xlabel(true_title)\n",
    "        plot_ind += 2\n",
    "    plt.show()"
   ]
  },
  {
   "cell_type": "code",
   "execution_count": 32,
   "metadata": {
    "collapsed": true
   },
   "outputs": [],
   "source": [
    "def llfgsm_result(test_images, test_labels, model_predictions, epsilon, alpha, iteration):\n",
    "    #get adversarial images\n",
    "    llfgsm_images, accuracy, success, least = llfgsm_attack(model_predictions, model_prob, test_images, test_labels, epsilon, alpha, iteration)\n",
    "    \n",
    "    #display visual result\n",
    "    print(\"epsilon value:\", epsilon, \"alpha:\", alpha, \"iteration:\",iteration, \"LL-FGSM attack accuracy:\", accuracy)\n",
    "    llfgsm_display_results(test_images, test_labels, success, llfgsm_images, least, epsilon, alpha, iteration)"
   ]
  },
  {
   "cell_type": "code",
   "execution_count": 33,
   "metadata": {},
   "outputs": [
    {
     "name": "stdout",
     "output_type": "stream",
     "text": [
      "epsilon value: 0.01 alpha: 0.1 iteration: 5 LL-FGSM attack accuracy: 0.0228\n"
     ]
    },
    {
     "data": {
      "text/plain": [
       "<Figure size 720x720 with 0 Axes>"
      ]
     },
     "metadata": {},
     "output_type": "display_data"
    },
    {
     "name": "stderr",
     "output_type": "stream",
     "text": [
      "/Applications/anaconda3/lib/python3.6/site-packages/matplotlib/backends/backend_agg.py:211: RuntimeWarning: Glyph 9 missing from current font.\n",
      "  font.set_text(s, 0.0, flags=flags)\n",
      "/Applications/anaconda3/lib/python3.6/site-packages/matplotlib/backends/backend_agg.py:180: RuntimeWarning: Glyph 9 missing from current font.\n",
      "  font.set_text(s, 0, flags=flags)\n"
     ]
    },
    {
     "data": {
      "image/png": "[encoded data removed]",
      "text/plain": [
       "<Figure size 720x720 with 2 Axes>"
      ]
     },
     "metadata": {},
     "output_type": "display_data"
    },
    {
     "data": {
      "image/png": "[encoded data removed]",
      "text/plain": [
       "<Figure size 720x720 with 2 Axes>"
      ]
     },
     "metadata": {},
     "output_type": "display_data"
    },
    {
     "data": {
      "image/png": "[encoded data removed]",
      "text/plain": [
       "<Figure size 720x720 with 2 Axes>"
      ]
     },
     "metadata": {},
     "output_type": "display_data"
    }
   ],
   "source": [
    "# e= 0.01, a = 0.1, iteration = 5\n",
    "llfgsm_result(test_images, test_labels, model_predictions, 0.01, 0.1, 5)"
   ]
  },
  {
   "cell_type": "code",
   "execution_count": 34,
   "metadata": {},
   "outputs": [
    {
     "name": "stdout",
     "output_type": "stream",
     "text": [
      "epsilon value: 0.05 alpha: 0.1 iteration: 5 LL-FGSM attack accuracy: 0.1131\n"
     ]
    },
    {
     "data": {
      "text/plain": [
       "<Figure size 720x720 with 0 Axes>"
      ]
     },
     "metadata": {},
     "output_type": "display_data"
    },
    {
     "name": "stderr",
     "output_type": "stream",
     "text": [
      "/Applications/anaconda3/lib/python3.6/site-packages/matplotlib/backends/backend_agg.py:211: RuntimeWarning: Glyph 9 missing from current font.\n",
      "  font.set_text(s, 0.0, flags=flags)\n",
      "/Applications/anaconda3/lib/python3.6/site-packages/matplotlib/backends/backend_agg.py:180: RuntimeWarning: Glyph 9 missing from current font.\n",
      "  font.set_text(s, 0, flags=flags)\n"
     ]
    },
    {
     "data": {
      "image/png": "[encoded data removed]",
      "text/plain": [
       "<Figure size 720x720 with 2 Axes>"
      ]
     },
     "metadata": {},
     "output_type": "display_data"
    },
    {
     "data": {
      "image/png": "[encoded data removed]",
      "text/plain": [
       "<Figure size 720x720 with 2 Axes>"
      ]
     },
     "metadata": {},
     "output_type": "display_data"
    },
    {
     "data": {
      "image/png": "[encoded data removed]",
      "text/plain": [
       "<Figure size 720x720 with 2 Axes>"
      ]
     },
     "metadata": {},
     "output_type": "display_data"
    }
   ],
   "source": [
    "# e= 0.05, a=0.1, iteration = 5\n",
    "llfgsm_result(test_images, test_labels, model_predictions, 0.05, 0.1, 5)"
   ]
  },
  {
   "cell_type": "code",
   "execution_count": null,
   "metadata": {
    "collapsed": true
   },
   "outputs": [],
   "source": []
  }
 ],
 "metadata": {
  "kernelspec": {
   "display_name": "Python 3",
   "language": "python",
   "name": "python3"
  },
  "language_info": {
   "codemirror_mode": {
    "name": "ipython",
    "version": 3
   },
   "file_extension": ".py",
   "mimetype": "text/x-python",
   "name": "python",
   "nbconvert_exporter": "python",
   "pygments_lexer": "ipython3",
   "version": "3.6.3"
  }
 },
 "nbformat": 4,
 "nbformat_minor": 2
}
