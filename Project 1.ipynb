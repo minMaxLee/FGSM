{
 "cells": [
  {
   "cell_type": "code",
   "execution_count": 9,
   "metadata": {},
   "outputs": [
    {
     "name": "stdout",
     "output_type": "stream",
     "text": [
      "tf.Tensor(\n",
      "[[[1.  0.  0. ]\n",
      "  [0.  1.  0. ]]\n",
      "\n",
      " [[0.  0.  1. ]\n",
      "  [0.1 0.1 0.1]]], shape=(2, 2, 3), dtype=float32)\n"
     ]
    },
    {
     "data": {
      "image/png": "[encoded data removed]",
      "text/plain": [
       "<Figure size 432x288 with 1 Axes>"
      ]
     },
     "metadata": {},
     "output_type": "display_data"
    },
    {
     "ename": "NameError",
     "evalue": "name 'model' is not defined",
     "output_type": "error",
     "traceback": [
      "\u001b[0;31m---------------------------------------------------------------------------\u001b[0m",
      "\u001b[0;31mNameError\u001b[0m                                 Traceback (most recent call last)",
      "\u001b[0;32m<ipython-input-9-6cbfe9e075ed>\u001b[0m in \u001b[0;36m<module>\u001b[0;34m()\u001b[0m\n\u001b[1;32m     25\u001b[0m \u001b[0;34m\u001b[0m\u001b[0m\n\u001b[1;32m     26\u001b[0m \u001b[0;31m# im = tf.convert_to_tensor([im])\u001b[0m\u001b[0;34m\u001b[0m\u001b[0;34m\u001b[0m\u001b[0m\n\u001b[0;32m---> 27\u001b[0;31m \u001b[0mpred\u001b[0m \u001b[0;34m=\u001b[0m \u001b[0mmodel\u001b[0m\u001b[0;34m(\u001b[0m\u001b[0mim\u001b[0m\u001b[0;34m)\u001b[0m\u001b[0;34m\u001b[0m\u001b[0m\n\u001b[0m\u001b[1;32m     28\u001b[0m \u001b[0mprint\u001b[0m\u001b[0;34m(\u001b[0m\u001b[0mpred\u001b[0m\u001b[0;34m)\u001b[0m\u001b[0;34m\u001b[0m\u001b[0m\n\u001b[1;32m     29\u001b[0m \u001b[0;34m\u001b[0m\u001b[0m\n",
      "\u001b[0;31mNameError\u001b[0m: name 'model' is not defined"
     ]
    }
   ],
   "source": [
    "import tensorflow as tf\n",
    "import matplotlib as mpl\n",
    "import matplotlib.pyplot as plt\n",
    "from tensorflow.keras import datasets\n",
    "\n",
    "t = tf.constant([\n",
    "    [[1,0,0],[0,1,0]],\n",
    "    [[0,0,1],[0.1,0.1,0.1],]\n",
    "])\n",
    "\n",
    "print(t)\n",
    "plt.imshow(t)\n",
    "plt.show()\n",
    "\n",
    "t4 = tf.constant([\n",
    "    [[1.0,0,0],[.8,0,0],[0.6,0,0],[0.4,0,0]],\n",
    "    [[0,1,0],[0,0.8,0],[0,0.6,0],[0,0.4,0]],\n",
    "    [[0,0,1],[0,0,0.8],[0,0,0.6],[0,0,0.4]],\n",
    "    [[0.1,0.1,0.1],[0.1,0.1,0.1],[0.1,0.1,0.1],[0.1,0.1,0.1]]\n",
    "])\n",
    "(train_images, train_labels), (test_images, test_labels) = datasets.cifar10.load_data()\n",
    "\n",
    "label = 5\n",
    "im = test_images[1]\n",
    "\n",
    "# im = tf.convert_to_tensor([im])\n",
    "pred = model(im)\n",
    "print(pred)\n",
    "\n",
    "label = tf.one_hot(label, 10)\n",
    "label = tf.reshape(label, (1,10))\n",
    "\n",
    "with tf.GradientTape() as tape:\n",
    "    tape.watch(im)\n",
    "    prediction = model(im)\n",
    "    loss = loss_object(im, prediction)\n",
    "# Get the gradients of the loss w.r.t to the input image.\n",
    "gradient = tape.gradient(loss, im)\n",
    "# Get the sign of the gradients to create the perturbation\n",
    "signed_grad = tf.sign(gradient)\n",
    "\n",
    "print(signed_grad)"
   ]
  },
  {
   "cell_type": "code",
   "execution_count": 2,
   "metadata": {},
   "outputs": [
    {
     "ename": "NameError",
     "evalue": "name 'mpl' is not defined",
     "output_type": "error",
     "traceback": [
      "\u001b[0;31m---------------------------------------------------------------------------\u001b[0m",
      "\u001b[0;31mNameError\u001b[0m                                 Traceback (most recent call last)",
      "\u001b[0;32m<ipython-input-2-f1de7a7efa71>\u001b[0m in \u001b[0;36m<module>\u001b[0;34m()\u001b[0m\n\u001b[1;32m      1\u001b[0m \u001b[0;34m\u001b[0m\u001b[0m\n\u001b[1;32m      2\u001b[0m \u001b[0;34m\u001b[0m\u001b[0m\n\u001b[0;32m----> 3\u001b[0;31m \u001b[0mmpl\u001b[0m\u001b[0;34m.\u001b[0m\u001b[0mrcParams\u001b[0m\u001b[0;34m[\u001b[0m\u001b[0;34m'figure.figsize'\u001b[0m\u001b[0;34m]\u001b[0m \u001b[0;34m=\u001b[0m \u001b[0;34m(\u001b[0m\u001b[0;36m8\u001b[0m\u001b[0;34m,\u001b[0m \u001b[0;36m8\u001b[0m\u001b[0;34m)\u001b[0m\u001b[0;34m\u001b[0m\u001b[0m\n\u001b[0m\u001b[1;32m      4\u001b[0m \u001b[0mmpl\u001b[0m\u001b[0;34m.\u001b[0m\u001b[0mrcParams\u001b[0m\u001b[0;34m[\u001b[0m\u001b[0;34m'axes.grid'\u001b[0m\u001b[0;34m]\u001b[0m \u001b[0;34m=\u001b[0m \u001b[0;32mFalse\u001b[0m\u001b[0;34m\u001b[0m\u001b[0m\n\u001b[1;32m      5\u001b[0m \u001b[0;34m\u001b[0m\u001b[0m\n",
      "\u001b[0;31mNameError\u001b[0m: name 'mpl' is not defined"
     ]
    }
   ],
   "source": [
    "\n",
    "\n",
    "mpl.rcParams['figure.figsize'] = (8, 8)\n",
    "mpl.rcParams['axes.grid'] = False\n",
    "\n",
    "pretrained_model = tf.keras.applications.MobileNetV2(include_top=True,\n",
    "                                                     weights='imagenet')\n",
    "pretrained_model.trainable = False\n",
    "\n",
    "# need labels from CIFAR\n",
    "decode_predictions = tf.keras.applications.mobilenet_v2.decode_predictions\n",
    "\n",
    "def preprocess(image):\n",
    "  image = tf.cast(image, tf.float32)\n",
    "  image = tf.image.resize(image, (224, 224))\n",
    "  image = tf.keras.applications.mobilenet_v2.preprocess_input(image)\n",
    "  image = image[None, ...]\n",
    "  return image\n",
    "\n",
    "# Helper function to extract labels from probability vector\n",
    "def get_model_label(probs):\n",
    "  return decode_predictions(probs, top=1)[0][0]\n",
    "\n",
    "\n",
    "x = preprocess(x)\n",
    "x_prob = pretrained_model.predict(x)\n",
    "\n",
    "# plt.figure()\n",
    "# plt.imshow(x[0]*0.5+0.5) # To change [-1, 1] to [0,1]\n",
    "# _, image_class, class_confidence = get_model_label(x_prob)\n",
    "# plt.title('{} : {:.2f}% Confidence'.format(image_class, class_confidence*100))\n",
    "# plt.show()\n",
    "# plt.imshow((x[0]*0.5 + 0.5) * 0.8)\n",
    "# plt.show()\n",
    "plt.figure(figsize=(10,10))\n",
    "ind = 1\n",
    "for i in range(3):\n",
    "    plt.subplot(3,2,ind)\n",
    "\n",
    "    plt.grid(False)\n",
    "    plt.imshow(x_train[i], cmap=plt.cm.binary)\n",
    "    plt.xlabel(\"l: {ind}\".format(ind = ind))\n",
    "    plt.subplot(3,2,ind+1)\n",
    "    plt.xticks([])\n",
    "    plt.yticks([])\n",
    "    plt.grid(True)\n",
    "    plt.imshow(x_train[i], cmap=plt.cm.binary)\n",
    "    plt.xlabel(\"r:{ind}\".format(ind = ind+1))\n",
    "    ind += 2\n",
    "plt.show()\n",
    "\n",
    "\n",
    "\n",
    "\n"
   ]
  },
  {
   "cell_type": "code",
   "execution_count": null,
   "metadata": {
    "collapsed": true
   },
   "outputs": [],
   "source": [
    "label = 5\n",
    "im = test_images[1]\n",
    "\n",
    "# im = tf.convert_to_tensor([im])\n",
    "pred = model(im)\n",
    "print(pred)\n",
    "\n",
    "label = tf.one_hot(label, 10)\n",
    "label = tf.reshape(label, (1,10))\n",
    "\n",
    "with tf.GradientTape() as tape:\n",
    "        tape.watch(input_image)\n",
    "        prediction = model(input_image)\n",
    "        loss = loss_object(input_label, prediction)\n",
    "    # Get the gradients of the loss w.r.t to the input image.\n",
    "    gradient = tape.gradient(loss, input_image)\n",
    "    # Get the sign of the gradients to create the perturbation\n",
    "    signed_grad = tf.sign(gradient)"
   ]
  },
  {
   "cell_type": "code",
   "execution_count": null,
   "metadata": {},
   "outputs": [],
   "source": [
    "image_path = tf.keras.utils.get_file('YellowLabradorLooking_new.jpg', 'https://storage.googleapis.com/download.tensorflow.org/example_images/YellowLabradorLooking_new.jpg')\n",
    "image_raw = tf.io.read_file(image_path)\n",
    "image = tf.image.decode_image(image_raw)\n",
    "\n",
    "image = preprocess(image)\n",
    "image_probs = pretrained_model.predict(image)\n",
    "\n",
    "\n",
    "#shape of image: \n",
    "print(tf.shape(image))\n",
    "t = tf.tensor([0][0][0])\n",
    "print(t)"
   ]
  },
  {
   "cell_type": "code",
   "execution_count": null,
   "metadata": {
    "scrolled": false
   },
   "outputs": [],
   "source": [
    "# plt.figure()\n",
    "# plt.imshow(image[0]*0.5+0.5) # To change [-1, 1] to [0,1]\n",
    "# _, image_class, class_confidence = get_model_label(image_probs)\n",
    "# plt.title('{} : {:.2f}% Confidence'.format(image_class, class_confidence*100))\n",
    "# plt.show()\n",
    "\n",
    "# x = tf.constant([[1],[2],[3]], tf.int32)\n",
    "# print(tf.shape(x))\n",
    "# x = tf.reshape(x,[3])\n",
    "# print(tf.shape(x))\n",
    "\n",
    "# # print(tf.shape(image_probs))\n",
    "\n",
    "\n",
    "# pred = pretrained_model(image)\n",
    "# # print(tf.shape(pred))\n",
    "# # print(tf.shape(image))\n",
    "\n",
    "loss_object = tf.keras.losses.CategoricalCrossentropy()\n",
    "def create_adversarial_pattern(input_image, input_label):\n",
    "    with tf.GradientTape() as tape:\n",
    "        tape.watch(input_image)\n",
    "        prediction = pretrained_model(input_image)\n",
    "        loss = loss_object(input_label, prediction)\n",
    "        #     print(\"input label\", tf.shape(input_label))\n",
    "        #     print(\"pred:\" ,tf.shape(prediction))\n",
    "        print('loss', loss)\n",
    "        print('pred', prediction)\n",
    "\n",
    "    # Get the gradients of the loss w.r.t to the input image.\n",
    "    print('image:', input_image)\n",
    "    gradient = tape.gradient(loss, input_image)\n",
    "    print(\"gradd:\", gradient)\n",
    "    # Get the sign of the gradients to create the perturbation\n",
    "    signed_grad = tf.sign(gradient)\n",
    "    return signed_grad\n",
    "\n",
    "labrador_retriever_index = 208\n",
    "label = tf.one_hot(labrador_retriever_index, image_probs.shape[-1])\n",
    "label = tf.reshape(label, (1, image_probs.shape[-1]))\n",
    "\n",
    "perturbations = create_adversarial_pattern(image, label)\n",
    "print(perturbations)\n",
    "plt.imshow(perturbations[0]*0.5+0.5)\n",
    "plt.show()"
   ]
  },
  {
   "cell_type": "code",
   "execution_count": null,
   "metadata": {
    "collapsed": true
   },
   "outputs": [],
   "source": []
  }
 ],
 "metadata": {
  "kernelspec": {
   "display_name": "Python 3",
   "language": "python",
   "name": "python3"
  },
  "language_info": {
   "codemirror_mode": {
    "name": "ipython",
    "version": 3
   },
   "file_extension": ".py",
   "mimetype": "text/x-python",
   "name": "python",
   "nbconvert_exporter": "python",
   "pygments_lexer": "ipython3",
   "version": "3.6.3"
  }
 },
 "nbformat": 4,
 "nbformat_minor": 2
}
